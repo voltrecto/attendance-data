{
  "nbformat": 4,
  "nbformat_minor": 0,
  "metadata": {
    "colab": {
      "provenance": [],
      "mount_file_id": "1uWMhuCFo62roQPQwRdtbfWzD1AyuSP-o",
      "authorship_tag": "ABX9TyP3NcR120cWkzEC1yOmljrf"
    },
    "kernelspec": {
      "name": "python3",
      "display_name": "Python 3"
    },
    "language_info": {
      "name": "python"
    }
  },
  "cells": [
    {
      "cell_type": "markdown",
      "source": [
        "# **Attendance Data Consolidation and Transformation with Pandas**"
      ],
      "metadata": {
        "id": "xumQ1TZgXFmB"
      }
    },
    {
      "cell_type": "markdown",
      "source": [
        "**Note:** This notebook contains a modified version of codes I developed to improve an existing process during my previous employment. The techniques and data formats applied here are similar to those used in the real-world scenario, but the actual data, including names, numbers, and values, have been randomly generated for the purpose of illustration and confidentiality. The modifications aim to showcase the approach and techniques applied in the original context.\n",
        "\n",
        "### **Background**\n",
        "\n",
        "Code in this notebook was used to streamline the attendance reporting process that I used to perform on a daily basis. The daily task involved transforming schedule and phone data of over 500 service desk employees into a format that is uploaded to SQL for use in an attendance dashboard.\n",
        "\n",
        "#### **Goal**\n",
        "\n",
        "The goal is to generate two outputs from raw data in a quick and efficient manner.\n",
        "1. Consolidated schedule data - Contains:\n",
        "  * Date\n",
        "  * Start time\n",
        "  * End time  \n",
        "  * Employee number\n",
        "  * Code: 1 (Off), 2 (Shift), 3 (Training), 4 (Vacation), 5 (PTO)\n",
        "\n",
        "2. Employee login logout data - Contains:\n",
        "  * Employee name\n",
        "  * Date\n",
        "  * Login time\n",
        "  * Logout time\n",
        "  * Employee number\n",
        "\n",
        "#### **Raw Data**\n",
        "\n",
        "##### **Schedule data**\n",
        "\n",
        "Schedule data is provided separately by each department. They all use the same Excel file template.\n",
        "\n",
        "![picture](https://drive.google.com/uc?export=view&id=1OsR9ezvDlW5Pw3ORYCtt4g9LNmYaK_TD)\n",
        "\n",
        "##### **Phone data**\n",
        "\n",
        "Employee login/logout data is obtained from the software phone system in Excel format. A day may have multiple login and logout times\n",
        "\n",
        "![picture](https://drive.google.com/uc?export=view&id=15MZvNlQopQJdMIvQ3qmwzsnTW-qINl8u)\n",
        "\n",
        "##### **Employee List**\n",
        "\n",
        "The employee list is also saved as an Excel file. It contains employee IDs, Z IDs and phone IDs.\n",
        "\n",
        "![picture](https://drive.google.com/uc?export=view&id=1_as6A6QaJtbvSfLDHSRXP7j57ovyaJ-E)\n"
      ],
      "metadata": {
        "id": "ggza6lKJYtTP"
      }
    },
    {
      "cell_type": "code",
      "execution_count": null,
      "metadata": {
        "id": "WKT5oN6jW-uG"
      },
      "outputs": [],
      "source": []
    }
  ]
}