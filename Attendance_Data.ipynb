{
  "nbformat": 4,
  "nbformat_minor": 0,
  "metadata": {
    "colab": {
      "provenance": [],
      "mount_file_id": "1uWMhuCFo62roQPQwRdtbfWzD1AyuSP-o",
      "authorship_tag": "ABX9TyNpFz108HwqeIfqoGGTfVLj"
    },
    "kernelspec": {
      "name": "python3",
      "display_name": "Python 3"
    },
    "language_info": {
      "name": "python"
    }
  },
  "cells": [
    {
      "cell_type": "markdown",
      "source": [
        "# **Attendance Data Consolidation and Transformation with Pandas**"
      ],
      "metadata": {
        "id": "xumQ1TZgXFmB"
      }
    },
    {
      "cell_type": "markdown",
      "source": [
        "**Note:** This notebook contains a modified version of codes I developed to improve an existing process during my previous employment. The techniques and data formats applied here are similar to those used in the real-world scenario, but the actual data, including names, numbers, and values, have been randomly generated for the purpose of illustration and confidentiality. The modifications aim to showcase the approach and techniques applied in the original context.\n",
        "\n",
        "### Goal\n",
        "\n",
        "The goal is to generate two outputs based on the data sources:\n",
        "1. Consolidated schedule data\n",
        "2. Employee login logout data\n",
        "\n",
        "### Data Sources\n",
        "\n",
        "#### Schedule data\n",
        "\n",
        "Schedule data is provided separately by each department but are all Excel files with the same format.\n",
        "\n",
        "![picture](https://drive.google.com/uc?export=view&id=1OsR9ezvDlW5Pw3ORYCtt4g9LNmYaK_TD)\n",
        "\n",
        "#### Phone data\n",
        "\n",
        "Employees are level 1 and 2 service desk analysts. Their login/logout data are derived from their interactions with the software phone system.\n",
        "\n",
        "![picture](https://drive.google.com/uc?export=view&id=15MZvNlQopQJdMIvQ3qmwzsnTW-qINl8u)\n",
        "\n",
        "#### Employee List\n",
        "\n",
        "The employee list is an Excel file containing employee IDs, Z IDs and phone IDs.\n",
        "\n",
        "![picture](https://drive.google.com/uc?export=view&id=1_as6A6QaJtbvSfLDHSRXP7j57ovyaJ-E)\n"
      ],
      "metadata": {
        "id": "ggza6lKJYtTP"
      }
    },
    {
      "cell_type": "code",
      "execution_count": null,
      "metadata": {
        "id": "WKT5oN6jW-uG"
      },
      "outputs": [],
      "source": []
    }
  ]
}